{
  "nbformat": 4,
  "nbformat_minor": 0,
  "metadata": {
    "colab": {
      "name": "SJF_Preempt.ipynb",
      "version": "0.3.2",
      "provenance": [],
      "collapsed_sections": [],
      "include_colab_link": true
    },
    "kernelspec": {
      "name": "python3",
      "display_name": "Python 3"
    }
  },
  "cells": [
    {
      "cell_type": "markdown",
      "metadata": {
        "id": "view-in-github",
        "colab_type": "text"
      },
      "source": [
        "<a href=\"https://colab.research.google.com/github/spshreya/CPU-Scheduling-python/blob/master/SJF_Preempt.ipynb\" target=\"_parent\"><img src=\"https://colab.research.google.com/assets/colab-badge.svg\" alt=\"Open In Colab\"/></a>"
      ]
    },
    {
      "cell_type": "code",
      "metadata": {
        "id": "Tssf9EDZRY0B",
        "colab_type": "code",
        "colab": {}
      },
      "source": [
        "import numpy as np\n",
        "import pandas as pd"
      ],
      "execution_count": 0,
      "outputs": []
    },
    {
      "cell_type": "code",
      "metadata": {
        "id": "TMV6IdD6RiDO",
        "colab_type": "code",
        "outputId": "b304a1c2-634d-4f13-c64f-fb0e2258acc3",
        "colab": {
          "base_uri": "https://localhost:8080/",
          "height": 34
        }
      },
      "source": [
        "n=int(input('Enter the number of processes:'))"
      ],
      "execution_count": 19,
      "outputs": [
        {
          "output_type": "stream",
          "text": [
            "Enter the number of processes:5\n"
          ],
          "name": "stdout"
        }
      ]
    },
    {
      "cell_type": "code",
      "metadata": {
        "id": "f9QKOGUzSIEt",
        "colab_type": "code",
        "outputId": "aea5a048-3250-4bbe-d609-29f8f649b583",
        "colab": {
          "base_uri": "https://localhost:8080/",
          "height": 34
        }
      },
      "source": [
        "p = list(np.arange(1,n+1,1))\n",
        "print(p)"
      ],
      "execution_count": 20,
      "outputs": [
        {
          "output_type": "stream",
          "text": [
            "[1, 2, 3, 4, 5]\n"
          ],
          "name": "stdout"
        }
      ]
    },
    {
      "cell_type": "code",
      "metadata": {
        "id": "C6sCYgJcSylg",
        "colab_type": "code",
        "colab": {
          "base_uri": "https://localhost:8080/",
          "height": 136
        },
        "outputId": "132431a9-b68e-4b63-db3e-8596849ce49d"
      },
      "source": [
        "print(\"Enter the arrival time for each process:\")\n",
        "at=np.empty(n)\n",
        "for i in range(n):\n",
        "  x=int(input())\n",
        "  at[i]=x\n",
        "print(at)"
      ],
      "execution_count": 21,
      "outputs": [
        {
          "output_type": "stream",
          "text": [
            "Enter the arrival time for each process:\n",
            "1\n",
            "4\n",
            "2\n",
            "5\n",
            "3\n",
            "[1. 4. 2. 5. 3.]\n"
          ],
          "name": "stdout"
        }
      ]
    },
    {
      "cell_type": "code",
      "metadata": {
        "id": "qmpM6jULc6LK",
        "colab_type": "code",
        "colab": {
          "base_uri": "https://localhost:8080/",
          "height": 153
        },
        "outputId": "ccc037de-ef1d-4d4b-90f5-a7f13f5af9ec"
      },
      "source": [
        "print(\"Enter the burst time for each process:\")\n",
        "bt=np.empty(n)\n",
        "btc=np.empty(n)\n",
        "for i in range(n):\n",
        "  x=int(input())\n",
        "  bt[i]=x\n",
        "print(bt)\n",
        "btc=bt\n",
        "print(btc)"
      ],
      "execution_count": 31,
      "outputs": [
        {
          "output_type": "stream",
          "text": [
            "Enter the burst time for each process:\n",
            "10\n",
            "2\n",
            "3\n",
            "6\n",
            "1\n",
            "[10.  2.  3.  6.  1.]\n",
            "[10.  2.  3.  6.  1.]\n"
          ],
          "name": "stdout"
        }
      ]
    },
    {
      "cell_type": "code",
      "metadata": {
        "id": "4gQqVFYmdein",
        "colab_type": "code",
        "colab": {
          "base_uri": "https://localhost:8080/",
          "height": 34
        },
        "outputId": "bd47c85f-c08e-4d40-c16b-7e489f0d3bff"
      },
      "source": [
        "complete=sum(bt)+at[0]\n",
        "print(complete)"
      ],
      "execution_count": 23,
      "outputs": [
        {
          "output_type": "stream",
          "text": [
            "23.0\n"
          ],
          "name": "stdout"
        }
      ]
    },
    {
      "cell_type": "code",
      "metadata": {
        "id": "0oPefMJBoeGQ",
        "colab_type": "code",
        "colab": {}
      },
      "source": [
        "#linear search because we need to use FCFS in case of a tie in the min BT\n",
        "def search(arr, x): \n",
        "  \n",
        "    for temp in range(len(arr)): \n",
        "  \n",
        "        if arr[temp] == x: \n",
        "            return temp\n",
        "  \n",
        "    return -1"
      ],
      "execution_count": 0,
      "outputs": []
    },
    {
      "cell_type": "code",
      "metadata": {
        "id": "fLjhr-Q7VjJ_",
        "colab_type": "code",
        "colab": {}
      },
      "source": [
        "def check(t,bt):\n",
        "  bti=np.empty(0)\n",
        "  for i in range(n):\n",
        "    if t>=at[i]:\n",
        "      \n",
        "      #print(at[i],i)\n",
        "      #check=-1\n",
        "      if bt[i]>=1:\n",
        "        bti=np.append(bti,bt[i])\n",
        "\n",
        "  return bti"
      ],
      "execution_count": 0,
      "outputs": []
    },
    {
      "cell_type": "code",
      "metadata": {
        "id": "TD69SdR7d7uy",
        "colab_type": "code",
        "colab": {
          "base_uri": "https://localhost:8080/",
          "height": 34
        },
        "outputId": "261a3819-d440-4067-c9c8-df61e9131281"
      },
      "source": [
        "t=0 \n",
        "#check=0\n",
        "ct=np.empty(n)\n",
        "while complete!=0:\n",
        "  x=check(t,bt)\n",
        "  if x.size!=0:\n",
        "    btmin=np.amin(x)\n",
        "    temp= search(bt,btmin)\n",
        "    btmin=btmin-1\n",
        "    bt[temp]=btmin\n",
        "    if bt[temp]==0:\n",
        "      ct[temp]=t+1\n",
        "    t=t+1\n",
        "    complete=complete-1\n",
        "      \n",
        "  else:\n",
        "    #check=-2\n",
        "    t=t+1\n",
        "    complete=complete-1\n",
        "print(ct)"
      ],
      "execution_count": 26,
      "outputs": [
        {
          "output_type": "stream",
          "text": [
            "[23.  6.  8. 14.  4.]\n"
          ],
          "name": "stdout"
        }
      ]
    },
    {
      "cell_type": "code",
      "metadata": {
        "id": "GS3C2wnOfIaw",
        "colab_type": "code",
        "colab": {
          "base_uri": "https://localhost:8080/",
          "height": 34
        },
        "outputId": "6f478982-85fe-4063-9ee0-658ecb1fdba2"
      },
      "source": [
        "#calculating Turn around time ct - at\n",
        "tat=np.empty(n)\n",
        "for i in range(n):\n",
        "  tat[i]=ct[i]-at[i]\n",
        "print(tat)"
      ],
      "execution_count": 27,
      "outputs": [
        {
          "output_type": "stream",
          "text": [
            "[22.  2.  6.  9.  1.]\n"
          ],
          "name": "stdout"
        }
      ]
    },
    {
      "cell_type": "code",
      "metadata": {
        "id": "ZqYVBJNtjWFu",
        "colab_type": "code",
        "colab": {
          "base_uri": "https://localhost:8080/",
          "height": 34
        },
        "outputId": "ce2bdfc4-5473-4621-c7eb-4477aa9206ca"
      },
      "source": [
        "#calculating waiting time tat-bt\n",
        "wt = np.empty(n)\n",
        "for i in range(n):\n",
        "  wt[i]=tat[i]-btc[i]\n",
        "  #btc was the copy of bt which contains the original values of bt\n",
        "  #bt has been changed\n",
        "print(wt)"
      ],
      "execution_count": 32,
      "outputs": [
        {
          "output_type": "stream",
          "text": [
            "[12.  0.  3.  3.  0.]\n"
          ],
          "name": "stdout"
        }
      ]
    },
    {
      "cell_type": "code",
      "metadata": {
        "id": "Pf8vDEWTj4wX",
        "colab_type": "code",
        "colab": {
          "base_uri": "https://localhost:8080/",
          "height": 34
        },
        "outputId": "1ec8976b-8bfc-4666-97ab-211f6ac7ecb3"
      },
      "source": [
        "np.average(tat)"
      ],
      "execution_count": 29,
      "outputs": [
        {
          "output_type": "execute_result",
          "data": {
            "text/plain": [
              "8.0"
            ]
          },
          "metadata": {
            "tags": []
          },
          "execution_count": 29
        }
      ]
    },
    {
      "cell_type": "code",
      "metadata": {
        "id": "rbc1_PqVj92L",
        "colab_type": "code",
        "colab": {
          "base_uri": "https://localhost:8080/",
          "height": 34
        },
        "outputId": "35700cd5-05de-4435-a9d3-3fdf71e98532"
      },
      "source": [
        "np.average(wt)"
      ],
      "execution_count": 33,
      "outputs": [
        {
          "output_type": "execute_result",
          "data": {
            "text/plain": [
              "3.6"
            ]
          },
          "metadata": {
            "tags": []
          },
          "execution_count": 33
        }
      ]
    },
    {
      "cell_type": "markdown",
      "metadata": {
        "id": "zWjnhtz8lljj",
        "colab_type": "text"
      },
      "source": [
        "# **GANTT CHART**"
      ]
    },
    {
      "cell_type": "code",
      "metadata": {
        "id": "R_9bgal9kFK8",
        "colab_type": "code",
        "colab": {
          "base_uri": "https://localhost:8080/",
          "height": 102
        },
        "outputId": "fc4fad8a-ff18-467b-a0fe-3d182a04eb4d"
      },
      "source": [
        "data=np.array([at,btc,ct,tat,wt])\n",
        "data"
      ],
      "execution_count": 35,
      "outputs": [
        {
          "output_type": "execute_result",
          "data": {
            "text/plain": [
              "array([[ 1.,  4.,  2.,  5.,  3.],\n",
              "       [10.,  2.,  3.,  6.,  1.],\n",
              "       [23.,  6.,  8., 14.,  4.],\n",
              "       [22.,  2.,  6.,  9.,  1.],\n",
              "       [12.,  0.,  3.,  3.,  0.]])"
            ]
          },
          "metadata": {
            "tags": []
          },
          "execution_count": 35
        }
      ]
    },
    {
      "cell_type": "code",
      "metadata": {
        "id": "-2dDtY7gmOzt",
        "colab_type": "code",
        "colab": {
          "base_uri": "https://localhost:8080/",
          "height": 204
        },
        "outputId": "ea342f47-fe45-423d-f39b-1e2270f849ad"
      },
      "source": [
        "df=pd.DataFrame(data)\n",
        "df.index=['AT','BT','CT','TAT','WT']\n",
        "df"
      ],
      "execution_count": 37,
      "outputs": [
        {
          "output_type": "execute_result",
          "data": {
            "text/html": [
              "<div>\n",
              "<style scoped>\n",
              "    .dataframe tbody tr th:only-of-type {\n",
              "        vertical-align: middle;\n",
              "    }\n",
              "\n",
              "    .dataframe tbody tr th {\n",
              "        vertical-align: top;\n",
              "    }\n",
              "\n",
              "    .dataframe thead th {\n",
              "        text-align: right;\n",
              "    }\n",
              "</style>\n",
              "<table border=\"1\" class=\"dataframe\">\n",
              "  <thead>\n",
              "    <tr style=\"text-align: right;\">\n",
              "      <th></th>\n",
              "      <th>0</th>\n",
              "      <th>1</th>\n",
              "      <th>2</th>\n",
              "      <th>3</th>\n",
              "      <th>4</th>\n",
              "    </tr>\n",
              "  </thead>\n",
              "  <tbody>\n",
              "    <tr>\n",
              "      <th>AT</th>\n",
              "      <td>1.0</td>\n",
              "      <td>4.0</td>\n",
              "      <td>2.0</td>\n",
              "      <td>5.0</td>\n",
              "      <td>3.0</td>\n",
              "    </tr>\n",
              "    <tr>\n",
              "      <th>BT</th>\n",
              "      <td>10.0</td>\n",
              "      <td>2.0</td>\n",
              "      <td>3.0</td>\n",
              "      <td>6.0</td>\n",
              "      <td>1.0</td>\n",
              "    </tr>\n",
              "    <tr>\n",
              "      <th>CT</th>\n",
              "      <td>23.0</td>\n",
              "      <td>6.0</td>\n",
              "      <td>8.0</td>\n",
              "      <td>14.0</td>\n",
              "      <td>4.0</td>\n",
              "    </tr>\n",
              "    <tr>\n",
              "      <th>TAT</th>\n",
              "      <td>22.0</td>\n",
              "      <td>2.0</td>\n",
              "      <td>6.0</td>\n",
              "      <td>9.0</td>\n",
              "      <td>1.0</td>\n",
              "    </tr>\n",
              "    <tr>\n",
              "      <th>WT</th>\n",
              "      <td>12.0</td>\n",
              "      <td>0.0</td>\n",
              "      <td>3.0</td>\n",
              "      <td>3.0</td>\n",
              "      <td>0.0</td>\n",
              "    </tr>\n",
              "  </tbody>\n",
              "</table>\n",
              "</div>"
            ],
            "text/plain": [
              "        0    1    2     3    4\n",
              "AT    1.0  4.0  2.0   5.0  3.0\n",
              "BT   10.0  2.0  3.0   6.0  1.0\n",
              "CT   23.0  6.0  8.0  14.0  4.0\n",
              "TAT  22.0  2.0  6.0   9.0  1.0\n",
              "WT   12.0  0.0  3.0   3.0  0.0"
            ]
          },
          "metadata": {
            "tags": []
          },
          "execution_count": 37
        }
      ]
    },
    {
      "cell_type": "markdown",
      "metadata": {
        "id": "9DiuTYMvldVI",
        "colab_type": "text"
      },
      "source": [
        ""
      ]
    }
  ]
}