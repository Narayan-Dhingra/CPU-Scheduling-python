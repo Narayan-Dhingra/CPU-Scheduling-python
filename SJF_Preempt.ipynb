{
  "nbformat": 4,
  "nbformat_minor": 0,
  "metadata": {
    "colab": {
      "name": "SJF_Preempt.ipynb",
      "version": "0.3.2",
      "provenance": [],
      "collapsed_sections": [],
      "include_colab_link": true
    },
    "kernelspec": {
      "name": "python3",
      "display_name": "Python 3"
    }
  },
  "cells": [
    {
      "cell_type": "markdown",
      "metadata": {
        "id": "view-in-github",
        "colab_type": "text"
      },
      "source": [
        "<a href=\"https://colab.research.google.com/github/spshreya/CPU-Scheduling-python/blob/master/SJF_Preempt.ipynb\" target=\"_parent\"><img src=\"https://colab.research.google.com/assets/colab-badge.svg\" alt=\"Open In Colab\"/></a>"
      ]
    },
    {
      "cell_type": "code",
      "metadata": {
        "id": "Tssf9EDZRY0B",
        "colab_type": "code",
        "colab": {}
      },
      "source": [
        "import numpy as np\n",
        "import pandas as pd"
      ],
      "execution_count": 0,
      "outputs": []
    },
    {
      "cell_type": "code",
      "metadata": {
        "id": "TMV6IdD6RiDO",
        "colab_type": "code",
        "outputId": "3c7c9bf6-c9f9-406c-92be-769d8f1f68c9",
        "colab": {
          "base_uri": "https://localhost:8080/",
          "height": 34
        }
      },
      "source": [
        "n=int(input('Enter the number of processes:'))"
      ],
      "execution_count": 2,
      "outputs": [
        {
          "output_type": "stream",
          "text": [
            "Enter the number of processes:5\n"
          ],
          "name": "stdout"
        }
      ]
    },
    {
      "cell_type": "code",
      "metadata": {
        "id": "f9QKOGUzSIEt",
        "colab_type": "code",
        "outputId": "0ecfb61d-7a7d-4774-b671-5a97e6cb5797",
        "colab": {
          "base_uri": "https://localhost:8080/",
          "height": 34
        }
      },
      "source": [
        "p = list(np.arange(1,n+1,1))\n",
        "print(p)"
      ],
      "execution_count": 3,
      "outputs": [
        {
          "output_type": "stream",
          "text": [
            "[1, 2, 3, 4, 5]\n"
          ],
          "name": "stdout"
        }
      ]
    },
    {
      "cell_type": "code",
      "metadata": {
        "id": "C6sCYgJcSylg",
        "colab_type": "code",
        "colab": {
          "base_uri": "https://localhost:8080/",
          "height": 136
        },
        "outputId": "911b5e34-65bb-4da9-fc69-522426952c21"
      },
      "source": [
        "print(\"Enter the arrival time for each process:\")\n",
        "at=np.empty(n)\n",
        "for i in range(n):\n",
        "  x=int(input())\n",
        "  at[i]=x\n",
        "print(at)"
      ],
      "execution_count": 4,
      "outputs": [
        {
          "output_type": "stream",
          "text": [
            "Enter the arrival time for each process:\n",
            "1\n",
            "4\n",
            "2\n",
            "5\n",
            "3\n",
            "[1. 4. 2. 5. 3.]\n"
          ],
          "name": "stdout"
        }
      ]
    },
    {
      "cell_type": "code",
      "metadata": {
        "id": "qmpM6jULc6LK",
        "colab_type": "code",
        "colab": {
          "base_uri": "https://localhost:8080/",
          "height": 153
        },
        "outputId": "cd17d16f-0082-490f-f12f-db50dba5ae14"
      },
      "source": [
        "print(\"Enter the burst time for each process:\")\n",
        "bt=np.empty(n)\n",
        "for i in range(n):\n",
        "  x=int(input())\n",
        "  bt[i]=x\n",
        "print(bt)\n",
        "btc=bt\n",
        "print(btc)"
      ],
      "execution_count": 5,
      "outputs": [
        {
          "output_type": "stream",
          "text": [
            "Enter the burst time for each process:\n",
            "10\n",
            "2\n",
            "3\n",
            "6\n",
            "1\n",
            "[10.  2.  3.  6.  1.]\n",
            "[10.  2.  3.  6.  1.]\n"
          ],
          "name": "stdout"
        }
      ]
    },
    {
      "cell_type": "code",
      "metadata": {
        "id": "4gQqVFYmdein",
        "colab_type": "code",
        "colab": {
          "base_uri": "https://localhost:8080/",
          "height": 34
        },
        "outputId": "70ea37cc-c5d1-43ca-9e78-5a5ff6e36875"
      },
      "source": [
        "complete=sum(bt)+at[0]\n",
        "print(complete)"
      ],
      "execution_count": 6,
      "outputs": [
        {
          "output_type": "stream",
          "text": [
            "23.0\n"
          ],
          "name": "stdout"
        }
      ]
    },
    {
      "cell_type": "code",
      "metadata": {
        "id": "0oPefMJBoeGQ",
        "colab_type": "code",
        "colab": {}
      },
      "source": [
        "#linear search because we need to use FCFS in case of a tie in the min BT\n",
        "def search(arr, x): \n",
        "  \n",
        "    for temp in range(len(arr)): \n",
        "  \n",
        "        if arr[temp] == x: \n",
        "            return temp\n",
        "  \n",
        "    return -1"
      ],
      "execution_count": 0,
      "outputs": []
    },
    {
      "cell_type": "code",
      "metadata": {
        "id": "fLjhr-Q7VjJ_",
        "colab_type": "code",
        "colab": {}
      },
      "source": [
        "def check(t,bt):\n",
        "  bti=np.empty(0)\n",
        "  for i in range(n):\n",
        "    if t>=at[i]:\n",
        "      \n",
        "      #print(at[i],i)\n",
        "      #check=-1\n",
        "      if bt[i]>=1:\n",
        "        bti=np.append(bti,bt[i])\n",
        "\n",
        "  return bti"
      ],
      "execution_count": 0,
      "outputs": []
    },
    {
      "cell_type": "code",
      "metadata": {
        "id": "TD69SdR7d7uy",
        "colab_type": "code",
        "colab": {
          "base_uri": "https://localhost:8080/",
          "height": 34
        },
        "outputId": "97da006c-f3b3-4f4d-9eb9-78b73e38276f"
      },
      "source": [
        "t=0 \n",
        "#check=0\n",
        "ct=np.empty(n)\n",
        "while complete!=0:\n",
        "  x=check(t,bt)\n",
        "  if x.size!=0:\n",
        "    btmin=np.amin(x)\n",
        "    temp= search(bt,btmin)\n",
        "    btmin=btmin-1\n",
        "    bt[temp]=btmin\n",
        "    if bt[temp]==0:\n",
        "      ct[temp]=t+1\n",
        "    t=t+1\n",
        "    complete=complete-1\n",
        "      \n",
        "  else:\n",
        "    #check=-2\n",
        "    t=t+1\n",
        "    complete=complete-1\n",
        "print(ct)"
      ],
      "execution_count": 9,
      "outputs": [
        {
          "output_type": "stream",
          "text": [
            "[23.  6.  8. 14.  4.]\n"
          ],
          "name": "stdout"
        }
      ]
    },
    {
      "cell_type": "code",
      "metadata": {
        "id": "GS3C2wnOfIaw",
        "colab_type": "code",
        "colab": {}
      },
      "source": [
        ""
      ],
      "execution_count": 0,
      "outputs": []
    }
  ]
}